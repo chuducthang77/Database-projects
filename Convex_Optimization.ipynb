{
  "nbformat": 4,
  "nbformat_minor": 0,
  "metadata": {
    "colab": {
      "name": "Convex Optimization.ipynb",
      "provenance": [],
      "authorship_tag": "ABX9TyNO+ZkHHwEMzWd5INr658Cr",
      "include_colab_link": true
    },
    "kernelspec": {
      "name": "python3",
      "display_name": "Python 3"
    },
    "language_info": {
      "name": "python"
    }
  },
  "cells": [
    {
      "cell_type": "markdown",
      "metadata": {
        "id": "view-in-github",
        "colab_type": "text"
      },
      "source": [
        "<a href=\"https://colab.research.google.com/github/thangchu77/DB-project/blob/main/Convex_Optimization.ipynb\" target=\"_parent\"><img src=\"https://colab.research.google.com/assets/colab-badge.svg\" alt=\"Open In Colab\"/></a>"
      ]
    },
    {
      "cell_type": "markdown",
      "metadata": {
        "id": "oOX4JQ-kWtxF"
      },
      "source": [
        "# Notes:\n",
        "\n",
        "Definition 1: Convex set: the line connecting 2 random points in the set also belongs to the set\n",
        "\n",
        "Definition 2: Suppose $\\mathbb{C}$ is a convex set and 2 vector $x_1, x_2 \\in \\mathbb{C}$\n",
        "$$x_\\theta = \\theta x_1 + (1 - \\theta)x_2 \\in \\mathbb{C} 0 \\leq \\theta \\leq 1 $$\n",
        "\n",
        "Hyperplane: $a_1x_1 + a_2x_2 + ... + a_nx_n = a^Tx = b$\n",
        "\n",
        "Halfspace: $a_1x_1 + a_2x_2 + ... + a_nx_n = a^Tx \\ leq b$\n",
        "\n",
        "Euclidean ball:\n",
        "- 0 < p < 1: nonconvex\n",
        "- otherwise: convex\n",
        "\n",
        "Mahalanobis norm: $||x||_A = \\sqrt{x^TA^{-1}x}$\n",
        "- Positive definite: A $\\succ$ 0\n",
        "- Positive semidefinite: A $\\succeq$ \n",
        "\n",
        "Properties of convexity:\n",
        "- Intersection of convex set is also a convex set"
      ]
    },
    {
      "cell_type": "code",
      "metadata": {
        "id": "xTg4tb33WJ2I"
      },
      "source": [
        ""
      ],
      "execution_count": null,
      "outputs": []
    }
  ]
}